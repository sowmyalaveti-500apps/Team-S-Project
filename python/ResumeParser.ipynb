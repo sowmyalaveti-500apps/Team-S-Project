{
  "nbformat": 4,
  "nbformat_minor": 0,
  "metadata": {
    "colab": {
      "name": "ResumeParser.ipynb",
      "provenance": [],
      "collapsed_sections": []
    },
    "kernelspec": {
      "name": "python3",
      "display_name": "Python 3"
    },
    "language_info": {
      "name": "python"
    }
  },
  "cells": [
    {
      "cell_type": "markdown",
      "metadata": {
        "id": "fyx7yzK_CRHS"
      },
      "source": [
        "## Installations\n",
        "\n",
        "Run these commands if not installed:\n",
        "* !pip install pyresparser\n",
        "* !python -m spacy download en_core_web_sm\n",
        "* !python -m nltk.downloader words"
      ]
    },
    {
      "cell_type": "code",
      "metadata": {
        "id": "0v5NBjh7C4uH"
      },
      "source": [
        "from pyresparser import ResumeParser\n",
        "PATH = '/content/project.pdf' # Give the file path here\n",
        "data = ResumeParser(PATH).get_extracted_data()"
      ],
      "execution_count": 19,
      "outputs": []
    },
    {
      "cell_type": "markdown",
      "metadata": {
        "id": "GBmjrsG3DYuL"
      },
      "source": [
        "Below data is getting after Parsing the resume PDF file. "
      ]
    },
    {
      "cell_type": "code",
      "metadata": {
        "colab": {
          "base_uri": "https://localhost:8080/"
        },
        "id": "0Sijvzf1Eau3",
        "outputId": "813cce19-7ca4-42a9-e533-6faed61bd711"
      },
      "source": [
        "data"
      ],
      "execution_count": 20,
      "outputs": [
        {
          "output_type": "execute_result",
          "data": {
            "text/plain": [
              "{'college_name': None,\n",
              " 'company_names': None,\n",
              " 'degree': ['Bachelor, Technology, xstatusx July 2008',\n",
              "  'Masters, Business Administration'],\n",
              " 'designation': ['xxTitlexx'],\n",
              " 'email': 'xxxxxxx@xxx.com',\n",
              " 'experience': ['xxTitlexx',\n",
              "  'xxCompanyNamexx',\n",
              "  'April 2014 - Current',\n",
              "  'xCityx, xStatex',\n",
              "  'Lorem ipsum dolor sit amet, consectetur adipiscing elit. Integer nec odio',\n",
              "  'diam. Sed nisi. Nulla quis sem at nibh elementum imperdiet.',\n",
              "  '▪ Lorem ipsum dolor sit amet, consectetur.',\n",
              "  '▪ Lorem ipsum dolor sit amet, consectetur adipiscing elit. Integer nec odio.',\n",
              "  '▪ Nulla quis sem at nibh elementum imperdiet dolor sit.',\n",
              "  'xxTitlexx',\n",
              "  'xxCompanyNamexx',\n",
              "  'October 2011 - March 2014',\n",
              "  'xCityx, xStatex',\n",
              "  '▪ Lorem ipsum dolor sit amet, consectetur.',\n",
              "  '▪ Lorem ipsum dolor sit amet, consectetur adipiscing elit. Integer nec odio.',\n",
              "  '▪ Lorem ipsum dolor sit amet, consectetuer adipiscing elit ean commodo ligula',\n",
              "  'sectetuer adipiscing elit ean.',\n",
              "  '▪ Lorem ipsum dolor sit amet, consectetur.',\n",
              "  '▪ Lorem ipsum dolor sit amet, consectetur adipiscing elit. Integer nec odio.',\n",
              "  'xxTitlexx',\n",
              "  'xxCompanyNamexx',\n",
              "  'October 2009 - October 2011',\n",
              "  'xCityx, xStatex',\n",
              "  'Lorem ipsum dolor sit amet, consectetuer adipiscing elit. Aenean commodo',\n",
              "  'ligula eget dolor. Aenean massa. Cum sociis natoque penatibus et magnis dis',\n",
              "  'parturient montes, nascetur ridiculus mus. Donec quam felis, ultricies Lorem',\n",
              "  'ipsum dolor sit amet, consectetuer adipiscing elit. Aenean commodo ligula eget',\n",
              "  'dolor. Aenean massa.'],\n",
              " 'mobile_number': '0000000',\n",
              " 'name': 'conse siti',\n",
              " 'no_of_pages': 5,\n",
              " 'skills': ['Email',\n",
              "  'Training',\n",
              "  'Cms',\n",
              "  'Word',\n",
              "  'Excel',\n",
              "  'Hardware',\n",
              "  'Adobe',\n",
              "  'Engineering',\n",
              "  'Database',\n",
              "  'English',\n",
              "  'Certification',\n",
              "  'German',\n",
              "  'Servers',\n",
              "  'Photoshop',\n",
              "  'Administration'],\n",
              " 'total_experience': 4.42}"
            ]
          },
          "metadata": {},
          "execution_count": 20
        }
      ]
    },
    {
      "cell_type": "code",
      "metadata": {
        "id": "UrscgXYsc6g4"
      },
      "source": [
        "import pandas as pd"
      ],
      "execution_count": 21,
      "outputs": []
    },
    {
      "cell_type": "code",
      "metadata": {
        "id": "_16z1976dLgG"
      },
      "source": [
        "df = pd.DataFrame.from_dict([data]).T"
      ],
      "execution_count": 26,
      "outputs": []
    },
    {
      "cell_type": "code",
      "metadata": {
        "colab": {
          "base_uri": "https://localhost:8080/",
          "height": 390
        },
        "id": "nBbyLNHMeH8w",
        "outputId": "b889d05e-53ce-4ea0-ede8-4261ffe8e2c6"
      },
      "source": [
        "df"
      ],
      "execution_count": 27,
      "outputs": [
        {
          "output_type": "execute_result",
          "data": {
            "text/html": [
              "<div>\n",
              "<style scoped>\n",
              "    .dataframe tbody tr th:only-of-type {\n",
              "        vertical-align: middle;\n",
              "    }\n",
              "\n",
              "    .dataframe tbody tr th {\n",
              "        vertical-align: top;\n",
              "    }\n",
              "\n",
              "    .dataframe thead th {\n",
              "        text-align: right;\n",
              "    }\n",
              "</style>\n",
              "<table border=\"1\" class=\"dataframe\">\n",
              "  <thead>\n",
              "    <tr style=\"text-align: right;\">\n",
              "      <th></th>\n",
              "      <th>0</th>\n",
              "    </tr>\n",
              "  </thead>\n",
              "  <tbody>\n",
              "    <tr>\n",
              "      <th>name</th>\n",
              "      <td>conse siti</td>\n",
              "    </tr>\n",
              "    <tr>\n",
              "      <th>email</th>\n",
              "      <td>xxxxxxx@xxx.com</td>\n",
              "    </tr>\n",
              "    <tr>\n",
              "      <th>mobile_number</th>\n",
              "      <td>0000000</td>\n",
              "    </tr>\n",
              "    <tr>\n",
              "      <th>skills</th>\n",
              "      <td>[Email, Training, Cms, Word, Excel, Hardware, ...</td>\n",
              "    </tr>\n",
              "    <tr>\n",
              "      <th>college_name</th>\n",
              "      <td>None</td>\n",
              "    </tr>\n",
              "    <tr>\n",
              "      <th>degree</th>\n",
              "      <td>[Bachelor, Technology, xstatusx July 2008, Mas...</td>\n",
              "    </tr>\n",
              "    <tr>\n",
              "      <th>designation</th>\n",
              "      <td>[xxTitlexx]</td>\n",
              "    </tr>\n",
              "    <tr>\n",
              "      <th>experience</th>\n",
              "      <td>[xxTitlexx, xxCompanyNamexx, April 2014 - Curr...</td>\n",
              "    </tr>\n",
              "    <tr>\n",
              "      <th>company_names</th>\n",
              "      <td>None</td>\n",
              "    </tr>\n",
              "    <tr>\n",
              "      <th>no_of_pages</th>\n",
              "      <td>5</td>\n",
              "    </tr>\n",
              "    <tr>\n",
              "      <th>total_experience</th>\n",
              "      <td>4.42</td>\n",
              "    </tr>\n",
              "  </tbody>\n",
              "</table>\n",
              "</div>"
            ],
            "text/plain": [
              "                                                                  0\n",
              "name                                                     conse siti\n",
              "email                                               xxxxxxx@xxx.com\n",
              "mobile_number                                               0000000\n",
              "skills            [Email, Training, Cms, Word, Excel, Hardware, ...\n",
              "college_name                                                   None\n",
              "degree            [Bachelor, Technology, xstatusx July 2008, Mas...\n",
              "designation                                             [xxTitlexx]\n",
              "experience        [xxTitlexx, xxCompanyNamexx, April 2014 - Curr...\n",
              "company_names                                                  None\n",
              "no_of_pages                                                       5\n",
              "total_experience                                               4.42"
            ]
          },
          "metadata": {},
          "execution_count": 27
        }
      ]
    }
  ]
}